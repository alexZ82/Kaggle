{
 "cells": [
  {
   "cell_type": "code",
   "execution_count": 2,
   "metadata": {
    "collapsed": false,
    "deletable": true,
    "editable": true
   },
   "outputs": [],
   "source": [
    "import pandas as pd\n",
    "import numpy as np\n",
    "import re\n",
    "from sklearn.model_selection import train_test_split\n",
    "import random\n",
    "from sklearn.metrics import roc_auc_score, confusion_matrix, accuracy_score\n",
    "import matplotlib\n",
    "import nltk\n",
    "from nltk.stem import WordNetLemmatizer\n",
    "from nltk.corpus import stopwords\n",
    "from scipy.sparse import csr_matrix, vstack, lil_matrix\n",
    "from os.path import isfile\n",
    "import h5py\n",
    "from keras.models import Sequential\n",
    "from keras.layers import Dense\n",
    "from keras.layers import Dropout\n",
    "from keras.models import load_model\n",
    "from keras.utils import np_utils\n",
    "from keras.callbacks import ModelCheckpoint\n",
    "from keras.callbacks import EarlyStopping\n",
    "from scipy import sparse, io\n",
    "\n",
    "%matplotlib inline"
   ]
  },
  {
   "cell_type": "code",
   "execution_count": 3,
   "metadata": {
    "collapsed": true,
    "deletable": true,
    "editable": true
   },
   "outputs": [],
   "source": [
    "train_data = pd.read_csv('train.csv')\n",
    "test_data = pd.read_csv('test.csv')"
   ]
  },
  {
   "cell_type": "code",
   "execution_count": 4,
   "metadata": {
    "collapsed": false,
    "deletable": true,
    "editable": true
   },
   "outputs": [
    {
     "data": {
      "text/html": [
       "<div>\n",
       "<style scoped>\n",
       "    .dataframe tbody tr th:only-of-type {\n",
       "        vertical-align: middle;\n",
       "    }\n",
       "\n",
       "    .dataframe tbody tr th {\n",
       "        vertical-align: top;\n",
       "    }\n",
       "\n",
       "    .dataframe thead th {\n",
       "        text-align: right;\n",
       "    }\n",
       "</style>\n",
       "<table border=\"1\" class=\"dataframe\">\n",
       "  <thead>\n",
       "    <tr style=\"text-align: right;\">\n",
       "      <th></th>\n",
       "      <th>id</th>\n",
       "      <th>comment_text</th>\n",
       "      <th>toxic</th>\n",
       "      <th>severe_toxic</th>\n",
       "      <th>obscene</th>\n",
       "      <th>threat</th>\n",
       "      <th>insult</th>\n",
       "      <th>identity_hate</th>\n",
       "      <th>processed</th>\n",
       "    </tr>\n",
       "  </thead>\n",
       "  <tbody>\n",
       "    <tr>\n",
       "      <th>0</th>\n",
       "      <td>0000997932d777bf</td>\n",
       "      <td>Explanation\\nWhy the edits made under my usern...</td>\n",
       "      <td>0</td>\n",
       "      <td>0</td>\n",
       "      <td>0</td>\n",
       "      <td>0</td>\n",
       "      <td>0</td>\n",
       "      <td>0</td>\n",
       "      <td>explanation why the edit make under my usernam...</td>\n",
       "    </tr>\n",
       "    <tr>\n",
       "      <th>1</th>\n",
       "      <td>000103f0d9cfb60f</td>\n",
       "      <td>D'aww! He matches this background colour I'm s...</td>\n",
       "      <td>0</td>\n",
       "      <td>0</td>\n",
       "      <td>0</td>\n",
       "      <td>0</td>\n",
       "      <td>0</td>\n",
       "      <td>0</td>\n",
       "      <td>d aww he match this background colour i m seem...</td>\n",
       "    </tr>\n",
       "    <tr>\n",
       "      <th>2</th>\n",
       "      <td>000113f07ec002fd</td>\n",
       "      <td>Hey man, I'm really not trying to edit war. It...</td>\n",
       "      <td>0</td>\n",
       "      <td>0</td>\n",
       "      <td>0</td>\n",
       "      <td>0</td>\n",
       "      <td>0</td>\n",
       "      <td>0</td>\n",
       "      <td>hey man i m really not try to edit war it s ju...</td>\n",
       "    </tr>\n",
       "    <tr>\n",
       "      <th>3</th>\n",
       "      <td>0001b41b1c6bb37e</td>\n",
       "      <td>\"\\nMore\\nI can't make any real suggestions on ...</td>\n",
       "      <td>0</td>\n",
       "      <td>0</td>\n",
       "      <td>0</td>\n",
       "      <td>0</td>\n",
       "      <td>0</td>\n",
       "      <td>0</td>\n",
       "      <td>more i can t make any real suggestions on impr...</td>\n",
       "    </tr>\n",
       "    <tr>\n",
       "      <th>4</th>\n",
       "      <td>0001d958c54c6e35</td>\n",
       "      <td>You, sir, are my hero. Any chance you remember...</td>\n",
       "      <td>0</td>\n",
       "      <td>0</td>\n",
       "      <td>0</td>\n",
       "      <td>0</td>\n",
       "      <td>0</td>\n",
       "      <td>0</td>\n",
       "      <td>you sir be my hero any chance you remember wha...</td>\n",
       "    </tr>\n",
       "  </tbody>\n",
       "</table>\n",
       "</div>"
      ],
      "text/plain": [
       "                 id                                       comment_text  toxic  \\\n",
       "0  0000997932d777bf  Explanation\\nWhy the edits made under my usern...      0   \n",
       "1  000103f0d9cfb60f  D'aww! He matches this background colour I'm s...      0   \n",
       "2  000113f07ec002fd  Hey man, I'm really not trying to edit war. It...      0   \n",
       "3  0001b41b1c6bb37e  \"\\nMore\\nI can't make any real suggestions on ...      0   \n",
       "4  0001d958c54c6e35  You, sir, are my hero. Any chance you remember...      0   \n",
       "\n",
       "   severe_toxic  obscene  threat  insult  identity_hate  \\\n",
       "0             0        0       0       0              0   \n",
       "1             0        0       0       0              0   \n",
       "2             0        0       0       0              0   \n",
       "3             0        0       0       0              0   \n",
       "4             0        0       0       0              0   \n",
       "\n",
       "                                           processed  \n",
       "0  explanation why the edit make under my usernam...  \n",
       "1  d aww he match this background colour i m seem...  \n",
       "2  hey man i m really not try to edit war it s ju...  \n",
       "3  more i can t make any real suggestions on impr...  \n",
       "4  you sir be my hero any chance you remember wha...  "
      ]
     },
     "execution_count": 4,
     "metadata": {},
     "output_type": "execute_result"
    }
   ],
   "source": [
    "def process_comment_text(txt):\n",
    "    ntxt = re.sub(r\"[^a-zA-Z]\", \" \", txt)\n",
    "    ntxt = ntxt.lower()\n",
    "    lemmatizer = WordNetLemmatizer()\n",
    "    text = nltk.word_tokenize(ntxt)\n",
    "    return ' '.join([lemmatizer.lemmatize(w,'v') for w in text])\n",
    "\n",
    "train_data['processed'] = train_data.comment_text.apply(process_comment_text)\n",
    "test_data['processed'] = test_data.comment_text.apply(process_comment_text)\n",
    "train_data.head()"
   ]
  },
  {
   "cell_type": "markdown",
   "metadata": {
    "deletable": true,
    "editable": true
   },
   "source": [
    "# Make features for all data"
   ]
  },
  {
   "cell_type": "code",
   "execution_count": 5,
   "metadata": {
    "collapsed": false
   },
   "outputs": [],
   "source": [
    "# see how frequent frequent words are\n",
    "stop = set(stopwords.words('english'))\n",
    "text = nltk.word_tokenize(' '.join(train_data.processed.values))\n",
    "dist = nltk.FreqDist(text)\n",
    "freq=[(w, dist[w]) for w in sorted(dist, key=dist.get, reverse=True) if w not in stop]"
   ]
  },
  {
   "cell_type": "code",
   "execution_count": 6,
   "metadata": {
    "collapsed": false
   },
   "outputs": [
    {
     "name": "stdout",
     "output_type": "stream",
     "text": [
      "[('article', 74553), ('page', 57296), ('wikipedia', 48625), ('edit', 40862), ('talk', 40500), ('use', 33257), ('make', 30575), ('please', 29976), ('would', 29323), ('one', 29199), ('like', 28739), ('think', 25743), ('see', 25574), ('say', 25520), ('know', 24313), ('source', 23941), ('thank', 23896), ('get', 22857), ('go', 21878), ('also', 20643)]\n",
      "[('wheatear', 1), ('dracul', 1), ('bestbuy', 1), ('itried', 1), ('defaultsorting', 1), ('mischievious', 1), ('photocatbot', 1), ('mufaddalqn', 1), ('samanthapuckettindo', 1), ('markdrows', 1), ('murtazajamali', 1), ('distributorscientiae', 1), ('hispavista', 1), ('amblocked', 1), ('bmattson', 1), ('webaddress', 1), ('gratest', 1), ('hanumakonda', 1), ('automakers', 1), ('ciu', 1)]\n"
     ]
    }
   ],
   "source": [
    "print(freq[:20])\n",
    "print(freq[-20:])"
   ]
  },
  {
   "cell_type": "code",
   "execution_count": 7,
   "metadata": {
    "collapsed": false,
    "deletable": true,
    "editable": true
   },
   "outputs": [],
   "source": [
    "def getwordlist(data,minfreq,maxfreq):\n",
    "    stop = set(stopwords.words('english'))\n",
    "    text = nltk.word_tokenize(' '.join(data))\n",
    "    dist = nltk.FreqDist(text)\n",
    "    wordlist = [i for i in dist.keys() if dist[i]>minfreq and dist[i]<maxfreq and i not in stop]\n",
    "    return wordlist\n",
    "\n",
    "words = getwordlist(data=train_data.processed.values,minfreq=5,maxfreq=80000)"
   ]
  },
  {
   "cell_type": "code",
   "execution_count": null,
   "metadata": {
    "collapsed": false,
    "deletable": true,
    "editable": true
   },
   "outputs": [],
   "source": [
    "def make_features(data,name):\n",
    "    X = csr_matrix((0, len(words)))\n",
    "\n",
    "    # for every comment check if the words corresponding to our input vector exist\n",
    "    count=0\n",
    "    print(name)\n",
    "    for i in data.processed: #.loc[:100]:\n",
    "        if count%1000==0:\n",
    "            print(round(((count+1)/len(data.processed))*100,3),'%')\n",
    "        cw = set(nltk.word_tokenize(i))\n",
    "        add = [int(w in cw) for w in words]\n",
    "        X = vstack([X, csr_matrix(add)], 'csr')\n",
    "        count+=1\n",
    "    io.mmwrite(name+'_X.mtx', X)\n",
    "    \n",
    "    if len(data.columns)>3:\n",
    "        y = data.apply(lambda x: x[2:8],axis=1) # .loc[:100]\n",
    "        y = csr_matrix(y.values)\n",
    "        io.mmwrite(name+'_y.mtx', y)\n",
    "    \n",
    "    # X is shape (number of examples in the data) x (numer of feature words) "
   ]
  },
  {
   "cell_type": "code",
   "execution_count": null,
   "metadata": {
    "collapsed": false
   },
   "outputs": [
    {
     "name": "stdout",
     "output_type": "stream",
     "text": [
      "train_data\n",
      "0.001 %\n",
      "0.627 %\n",
      "1.254 %\n",
      "1.881 %\n",
      "2.507 %\n",
      "3.134 %\n",
      "3.761 %\n",
      "4.387 %\n",
      "5.014 %\n",
      "5.641 %\n",
      "6.267 %\n",
      "6.894 %\n",
      "7.521 %\n",
      "8.147 %\n",
      "8.774 %\n",
      "9.401 %\n",
      "10.028 %\n",
      "10.654 %\n",
      "11.281 %\n",
      "11.908 %\n",
      "12.534 %\n",
      "13.161 %\n",
      "13.788 %\n",
      "14.414 %\n",
      "15.041 %\n",
      "15.668 %\n",
      "16.294 %\n",
      "16.921 %\n",
      "17.548 %\n",
      "18.174 %\n",
      "18.801 %\n",
      "19.428 %\n",
      "20.054 %\n",
      "20.681 %\n",
      "21.308 %\n",
      "21.934 %\n",
      "22.561 %\n",
      "23.188 %\n",
      "23.814 %\n",
      "24.441 %\n",
      "25.068 %\n",
      "25.695 %\n",
      "26.321 %\n",
      "26.948 %\n",
      "27.575 %\n",
      "28.201 %\n",
      "28.828 %\n",
      "29.455 %\n",
      "30.081 %\n",
      "30.708 %\n",
      "31.335 %\n",
      "31.961 %\n",
      "32.588 %\n",
      "33.215 %\n",
      "33.841 %\n",
      "34.468 %\n",
      "35.095 %\n",
      "35.721 %\n",
      "36.348 %\n",
      "36.975 %\n",
      "37.601 %\n"
     ]
    }
   ],
   "source": [
    "make_features(train_data,'train_data')\n",
    "make_features(test_data,'test_data')"
   ]
  },
  {
   "cell_type": "markdown",
   "metadata": {},
   "source": [
    "## Load data"
   ]
  },
  {
   "cell_type": "code",
   "execution_count": null,
   "metadata": {
    "collapsed": false
   },
   "outputs": [],
   "source": [
    "X_train = io.mmread('train_data_X.mtx').tocsr()\n",
    "y_train = io.mmread('train_data_y.mtx').tocsr()\n",
    "X_test = io.mmread('test_data_X.mtx').tocsr()"
   ]
  },
  {
   "cell_type": "markdown",
   "metadata": {
    "deletable": true,
    "editable": true
   },
   "source": [
    "## Specify model"
   ]
  },
  {
   "cell_type": "code",
   "execution_count": null,
   "metadata": {
    "collapsed": false,
    "deletable": true,
    "editable": true
   },
   "outputs": [],
   "source": [
    "nout = y_train.shape[1]\n",
    "nin = len(words)\n",
    "\n",
    "model = Sequential()\n",
    "model.add(Dense(100, input_dim=nin, activation='relu'))\n",
    "model.add(Dropout(0.5))\n",
    "model.add(Dense(100, activation='relu'))\n",
    "model.add(Dropout(0.5))\n",
    "model.add(Dense(100, activation='relu'))\n",
    "model.add(Dropout(0.5))\n",
    "model.add(Dense(nout, activation='softmax'))"
   ]
  },
  {
   "cell_type": "code",
   "execution_count": null,
   "metadata": {
    "collapsed": false,
    "deletable": true,
    "editable": true
   },
   "outputs": [],
   "source": [
    "model.compile(optimizer='rmsprop',\n",
    "              loss='categorical_crossentropy',\n",
    "              metrics=['accuracy'])"
   ]
  },
  {
   "cell_type": "markdown",
   "metadata": {
    "deletable": true,
    "editable": true
   },
   "source": [
    "## Fit model"
   ]
  },
  {
   "cell_type": "code",
   "execution_count": null,
   "metadata": {
    "collapsed": false,
    "deletable": true,
    "editable": true
   },
   "outputs": [],
   "source": [
    "# to deal with sparse matrix, add generator: https://stackoverflow.com/questions/41538692/using-sparse-matrices-with-keras-and-tensorflow\n",
    "def batch_generator(x_source, y_source, size):\n",
    "    while True:\n",
    "        for i in range(0, x_source.shape[0], size):\n",
    "            j = i + size\n",
    "            \n",
    "            if j > x_source.shape[0]:\n",
    "                j = x_source.shape[0]\n",
    "                \n",
    "            yield x_source[i:j].toarray(), y_source[i:j].toarray()\n",
    "\n",
    "nb_batch=64\n",
    "nb_epoch=10\n",
    "            \n",
    "model.fit_generator(batch_generator(X_train, y_train, nb_batch),X_train.shape[0], nb_epoch, verbose=1)"
   ]
  },
  {
   "cell_type": "markdown",
   "metadata": {
    "deletable": true,
    "editable": true
   },
   "source": [
    "## Check Predictions"
   ]
  },
  {
   "cell_type": "code",
   "execution_count": null,
   "metadata": {
    "collapsed": false
   },
   "outputs": [],
   "source": [
    "#score = model.evaluate_generator(batch_generator(X_test, y_test, nb_batch),len(range(0, X_test.shape[0], nb_batch)))\n",
    "#score"
   ]
  },
  {
   "cell_type": "code",
   "execution_count": null,
   "metadata": {
    "collapsed": false
   },
   "outputs": [],
   "source": [
    "pred = model.predict_generator(batch_generator(X_test, y_test, nb_batch),len(range(0, X_test.shape[0], nb_batch)))"
   ]
  },
  {
   "cell_type": "code",
   "execution_count": null,
   "metadata": {
    "collapsed": false
   },
   "outputs": [],
   "source": [
    "pred.shape"
   ]
  },
  {
   "cell_type": "markdown",
   "metadata": {
    "deletable": true,
    "editable": true
   },
   "source": [
    "## Save Results"
   ]
  },
  {
   "cell_type": "code",
   "execution_count": null,
   "metadata": {
    "collapsed": true,
    "deletable": true,
    "editable": true
   },
   "outputs": [],
   "source": [
    "pred.to_csv('tfid_reg.csv',index=False)"
   ]
  },
  {
   "cell_type": "code",
   "execution_count": null,
   "metadata": {
    "collapsed": true,
    "deletable": true,
    "editable": true
   },
   "outputs": [],
   "source": []
  }
 ],
 "metadata": {
  "kernelspec": {
   "display_name": "Python 3",
   "language": "python",
   "name": "python3"
  },
  "language_info": {
   "codemirror_mode": {
    "name": "ipython",
    "version": 3
   },
   "file_extension": ".py",
   "mimetype": "text/x-python",
   "name": "python",
   "nbconvert_exporter": "python",
   "pygments_lexer": "ipython3",
   "version": "3.6.4"
  }
 },
 "nbformat": 4,
 "nbformat_minor": 2
}
