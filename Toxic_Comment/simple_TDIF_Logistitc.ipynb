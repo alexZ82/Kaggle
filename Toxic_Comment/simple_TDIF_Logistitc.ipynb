{
 "cells": [
  {
   "cell_type": "code",
   "execution_count": 1,
   "metadata": {
    "collapsed": true
   },
   "outputs": [],
   "source": [
    "import pandas as pd\n",
    "import numpy as np\n",
    "import re\n",
    "from sklearn.feature_extraction.text import TfidfVectorizer\n",
    "from nltk.corpus import stopwords # Import the stop word list\n",
    "from sklearn.model_selection import train_test_split\n",
    "from sklearn.svm import SVC\n",
    "from sklearn.linear_model import LogisticRegression, LogisticRegressionCV\n",
    "from sklearn.model_selection import GridSearchCV\n",
    "from sklearn.pipeline import Pipeline\n",
    "from sklearn.svm import SVC\n",
    "import random\n",
    "from sklearn.naive_bayes import MultinomialNB\n",
    "from sklearn.metrics import roc_auc_score, confusion_matrix,accuracy_score\n",
    "import matplotlib\n",
    "%matplotlib inline"
   ]
  },
  {
   "cell_type": "code",
   "execution_count": 2,
   "metadata": {
    "collapsed": true
   },
   "outputs": [],
   "source": [
    "train_data = pd.read_csv('train.csv')\n",
    "test_data = pd.read_csv('test.csv')"
   ]
  },
  {
   "cell_type": "code",
   "execution_count": 3,
   "metadata": {},
   "outputs": [
    {
     "data": {
      "text/html": [
       "<div>\n",
       "<style>\n",
       "    .dataframe thead tr:only-child th {\n",
       "        text-align: right;\n",
       "    }\n",
       "\n",
       "    .dataframe thead th {\n",
       "        text-align: left;\n",
       "    }\n",
       "\n",
       "    .dataframe tbody tr th {\n",
       "        vertical-align: top;\n",
       "    }\n",
       "</style>\n",
       "<table border=\"1\" class=\"dataframe\">\n",
       "  <thead>\n",
       "    <tr style=\"text-align: right;\">\n",
       "      <th></th>\n",
       "      <th>id</th>\n",
       "      <th>comment_text</th>\n",
       "      <th>toxic</th>\n",
       "      <th>severe_toxic</th>\n",
       "      <th>obscene</th>\n",
       "      <th>threat</th>\n",
       "      <th>insult</th>\n",
       "      <th>identity_hate</th>\n",
       "    </tr>\n",
       "  </thead>\n",
       "  <tbody>\n",
       "    <tr>\n",
       "      <th>0</th>\n",
       "      <td>0000997932d777bf</td>\n",
       "      <td>Explanation\\nWhy the edits made under my usern...</td>\n",
       "      <td>0</td>\n",
       "      <td>0</td>\n",
       "      <td>0</td>\n",
       "      <td>0</td>\n",
       "      <td>0</td>\n",
       "      <td>0</td>\n",
       "    </tr>\n",
       "    <tr>\n",
       "      <th>1</th>\n",
       "      <td>000103f0d9cfb60f</td>\n",
       "      <td>D'aww! He matches this background colour I'm s...</td>\n",
       "      <td>0</td>\n",
       "      <td>0</td>\n",
       "      <td>0</td>\n",
       "      <td>0</td>\n",
       "      <td>0</td>\n",
       "      <td>0</td>\n",
       "    </tr>\n",
       "    <tr>\n",
       "      <th>2</th>\n",
       "      <td>000113f07ec002fd</td>\n",
       "      <td>Hey man, I'm really not trying to edit war. It...</td>\n",
       "      <td>0</td>\n",
       "      <td>0</td>\n",
       "      <td>0</td>\n",
       "      <td>0</td>\n",
       "      <td>0</td>\n",
       "      <td>0</td>\n",
       "    </tr>\n",
       "    <tr>\n",
       "      <th>3</th>\n",
       "      <td>0001b41b1c6bb37e</td>\n",
       "      <td>\"\\nMore\\nI can't make any real suggestions on ...</td>\n",
       "      <td>0</td>\n",
       "      <td>0</td>\n",
       "      <td>0</td>\n",
       "      <td>0</td>\n",
       "      <td>0</td>\n",
       "      <td>0</td>\n",
       "    </tr>\n",
       "    <tr>\n",
       "      <th>4</th>\n",
       "      <td>0001d958c54c6e35</td>\n",
       "      <td>You, sir, are my hero. Any chance you remember...</td>\n",
       "      <td>0</td>\n",
       "      <td>0</td>\n",
       "      <td>0</td>\n",
       "      <td>0</td>\n",
       "      <td>0</td>\n",
       "      <td>0</td>\n",
       "    </tr>\n",
       "  </tbody>\n",
       "</table>\n",
       "</div>"
      ],
      "text/plain": [
       "                 id                                       comment_text  toxic  \\\n",
       "0  0000997932d777bf  Explanation\\nWhy the edits made under my usern...      0   \n",
       "1  000103f0d9cfb60f  D'aww! He matches this background colour I'm s...      0   \n",
       "2  000113f07ec002fd  Hey man, I'm really not trying to edit war. It...      0   \n",
       "3  0001b41b1c6bb37e  \"\\nMore\\nI can't make any real suggestions on ...      0   \n",
       "4  0001d958c54c6e35  You, sir, are my hero. Any chance you remember...      0   \n",
       "\n",
       "   severe_toxic  obscene  threat  insult  identity_hate  \n",
       "0             0        0       0       0              0  \n",
       "1             0        0       0       0              0  \n",
       "2             0        0       0       0              0  \n",
       "3             0        0       0       0              0  \n",
       "4             0        0       0       0              0  "
      ]
     },
     "execution_count": 3,
     "metadata": {},
     "output_type": "execute_result"
    }
   ],
   "source": [
    "train_data.head()"
   ]
  },
  {
   "cell_type": "code",
   "execution_count": 4,
   "metadata": {},
   "outputs": [
    {
     "data": {
      "text/html": [
       "<div>\n",
       "<style>\n",
       "    .dataframe thead tr:only-child th {\n",
       "        text-align: right;\n",
       "    }\n",
       "\n",
       "    .dataframe thead th {\n",
       "        text-align: left;\n",
       "    }\n",
       "\n",
       "    .dataframe tbody tr th {\n",
       "        vertical-align: top;\n",
       "    }\n",
       "</style>\n",
       "<table border=\"1\" class=\"dataframe\">\n",
       "  <thead>\n",
       "    <tr style=\"text-align: right;\">\n",
       "      <th></th>\n",
       "      <th>id</th>\n",
       "      <th>comment_text</th>\n",
       "    </tr>\n",
       "  </thead>\n",
       "  <tbody>\n",
       "    <tr>\n",
       "      <th>0</th>\n",
       "      <td>00001cee341fdb12</td>\n",
       "      <td>Yo bitch Ja Rule is more succesful then you'll...</td>\n",
       "    </tr>\n",
       "    <tr>\n",
       "      <th>1</th>\n",
       "      <td>0000247867823ef7</td>\n",
       "      <td>== From RfC == \\n\\n The title is fine as it is...</td>\n",
       "    </tr>\n",
       "    <tr>\n",
       "      <th>2</th>\n",
       "      <td>00013b17ad220c46</td>\n",
       "      <td>\" \\n\\n == Sources == \\n\\n * Zawe Ashton on Lap...</td>\n",
       "    </tr>\n",
       "    <tr>\n",
       "      <th>3</th>\n",
       "      <td>00017563c3f7919a</td>\n",
       "      <td>:If you have a look back at the source, the in...</td>\n",
       "    </tr>\n",
       "    <tr>\n",
       "      <th>4</th>\n",
       "      <td>00017695ad8997eb</td>\n",
       "      <td>I don't anonymously edit articles at all.</td>\n",
       "    </tr>\n",
       "  </tbody>\n",
       "</table>\n",
       "</div>"
      ],
      "text/plain": [
       "                 id                                       comment_text\n",
       "0  00001cee341fdb12  Yo bitch Ja Rule is more succesful then you'll...\n",
       "1  0000247867823ef7  == From RfC == \\n\\n The title is fine as it is...\n",
       "2  00013b17ad220c46  \" \\n\\n == Sources == \\n\\n * Zawe Ashton on Lap...\n",
       "3  00017563c3f7919a  :If you have a look back at the source, the in...\n",
       "4  00017695ad8997eb          I don't anonymously edit articles at all."
      ]
     },
     "execution_count": 4,
     "metadata": {},
     "output_type": "execute_result"
    }
   ],
   "source": [
    "test_data.head()"
   ]
  },
  {
   "cell_type": "code",
   "execution_count": 5,
   "metadata": {},
   "outputs": [
    {
     "name": "stdout",
     "output_type": "stream",
     "text": [
      "                 id                                       comment_text  toxic  \\\n",
      "0  0000997932d777bf  Explanation\\nWhy the edits made under my usern...      0   \n",
      "1  000103f0d9cfb60f  D'aww! He matches this background colour I'm s...      0   \n",
      "2  000113f07ec002fd  Hey man, I'm really not trying to edit war. It...      0   \n",
      "3  0001b41b1c6bb37e  \"\\nMore\\nI can't make any real suggestions on ...      0   \n",
      "4  0001d958c54c6e35  You, sir, are my hero. Any chance you remember...      0   \n",
      "\n",
      "   severe_toxic  obscene  threat  insult  identity_hate  neutral  \n",
      "0             0        0       0       0              0        1  \n",
      "1             0        0       0       0              0        1  \n",
      "2             0        0       0       0              0        1  \n",
      "3             0        0       0       0              0        1  \n",
      "4             0        0       0       0              0        1  \n"
     ]
    }
   ],
   "source": [
    "train_data['neutral'] = train_data.apply(lambda x: 0 if sum(x[2:8])>=1 else 1 ,axis = 1)\n",
    "print(train_data.head())"
   ]
  },
  {
   "cell_type": "code",
   "execution_count": 6,
   "metadata": {},
   "outputs": [
    {
     "name": "stdout",
     "output_type": "stream",
     "text": [
      "toxic            15294\n",
      "severe_toxic      1595\n",
      "obscene           8449\n",
      "threat             478\n",
      "insult            7877\n",
      "identity_hate     1405\n",
      "dtype: int64\n"
     ]
    },
    {
     "data": {
      "text/plain": [
       "<matplotlib.axes._subplots.AxesSubplot at 0x11efa0898>"
      ]
     },
     "execution_count": 6,
     "metadata": {},
     "output_type": "execute_result"
    },
    {
     "data": {
      "image/png": "[encoded data removed]",
      "text/plain": [
       "<matplotlib.figure.Figure at 0x11ef83668>"
      ]
     },
     "metadata": {},
     "output_type": "display_data"
    }
   ],
   "source": [
    "print(train_data.iloc[:,2:8].sum())\n",
    "count_labels = train_data.iloc[:,2:8].sum()\n",
    "count_labels.set_value('all',train_data.shape[0])\n",
    "count_labels.plot('bar',color='orange')"
   ]
  },
  {
   "cell_type": "code",
   "execution_count": 7,
   "metadata": {},
   "outputs": [
    {
     "name": "stdout",
     "output_type": "stream",
     "text": [
      "                 id                                       comment_text  toxic  \\\n",
      "0  0000997932d777bf  Explanation\\nWhy the edits made under my usern...      0   \n",
      "1  000103f0d9cfb60f  D'aww! He matches this background colour I'm s...      0   \n",
      "2  000113f07ec002fd  Hey man, I'm really not trying to edit war. It...      0   \n",
      "3  0001b41b1c6bb37e  \"\\nMore\\nI can't make any real suggestions on ...      0   \n",
      "4  0001d958c54c6e35  You, sir, are my hero. Any chance you remember...      0   \n",
      "\n",
      "   severe_toxic  obscene  threat  insult  identity_hate  neutral  \\\n",
      "0             0        0       0       0              0        1   \n",
      "1             0        0       0       0              0        1   \n",
      "2             0        0       0       0              0        1   \n",
      "3             0        0       0       0              0        1   \n",
      "4             0        0       0       0              0        1   \n",
      "\n",
      "                                           processed  \n",
      "0  explanation why the edits made under my userna...  \n",
      "1  d aww  he matches this background colour i m s...  \n",
      "2  hey man  i m really not trying to edit war  it...  \n",
      "3    more i can t make any real suggestions on im...  \n",
      "4  you  sir  are my hero  any chance you remember...  \n",
      "                 id                                       comment_text  \\\n",
      "0  00001cee341fdb12  Yo bitch Ja Rule is more succesful then you'll...   \n",
      "1  0000247867823ef7  == From RfC == \\n\\n The title is fine as it is...   \n",
      "2  00013b17ad220c46  \" \\n\\n == Sources == \\n\\n * Zawe Ashton on Lap...   \n",
      "3  00017563c3f7919a  :If you have a look back at the source, the in...   \n",
      "4  00017695ad8997eb          I don't anonymously edit articles at all.   \n",
      "\n",
      "                                           processed  \n",
      "0  yo bitch ja rule is more succesful then you ll...  \n",
      "1     from rfc       the title is fine as it is  ...  \n",
      "2          sources         zawe ashton on lapland...  \n",
      "3   if you have a look back at the source  the in...  \n",
      "4          i don t anonymously edit articles at all   \n"
     ]
    }
   ],
   "source": [
    "def process_comment_text(txt):\n",
    "    ntxt = re.sub(r\"[^a-zA-Z]\", \" \", txt)\n",
    "    ntxt = ntxt.lower()\n",
    "    return ntxt\n",
    "\n",
    "train_data['processed'] = train_data.comment_text.apply(process_comment_text)\n",
    "test_data['processed'] = test_data.comment_text.apply(process_comment_text)\n",
    "print(train_data.head())\n",
    "print(test_data.head())"
   ]
  },
  {
   "cell_type": "markdown",
   "metadata": {},
   "source": [
    "# Tfidf Vectorizer and Regression - 1VsAll"
   ]
  },
  {
   "cell_type": "code",
   "execution_count": 8,
   "metadata": {
    "collapsed": true
   },
   "outputs": [],
   "source": [
    "vect = TfidfVectorizer(min_df=3,stop_words='english').fit(train_data.processed.values)\n",
    "x_train_vectorized = vect.transform(train_data.processed.values)\n",
    "x_test_vectorized = vect.transform(test_data.processed.values)"
   ]
  },
  {
   "cell_type": "code",
   "execution_count": 9,
   "metadata": {
    "collapsed": true
   },
   "outputs": [],
   "source": [
    "def class_model(data,labels):\n",
    "    negative_ind = np.where(labels == 0)[0]\n",
    "    positive_ind = np.where (labels == 1)[0]\n",
    "    balance_negative = np.random.choice(negative_ind,size = len(positive_ind),replace = False)\n",
    "    train_ind = np.concatenate((positive_ind,balance_negative))\n",
    "    random.shuffle(train_ind)\n",
    "    data = data[train_ind,:]\n",
    "    labels = labels[train_ind]\n",
    "    \n",
    "    model = LogisticRegressionCV(\n",
    "        Cs=list(np.power(10.0, np.arange(-10, 10)))\n",
    "        ,penalty='l2'\n",
    "        ,scoring='roc_auc'\n",
    "        ,cv=5\n",
    "        ,random_state=777\n",
    "        ,max_iter=10000\n",
    "        ,fit_intercept=True\n",
    "        ,solver='newton-cg'\n",
    "        ,tol=10\n",
    "        ,refit = True\n",
    "    )\n",
    "    model.fit(data, labels)\n",
    "    return model"
   ]
  },
  {
   "cell_type": "code",
   "execution_count": 10,
   "metadata": {},
   "outputs": [],
   "source": [
    "columns = ['id']\n",
    "index = test_data.index # array of numbers for the number of samples\n",
    "res = pd.DataFrame(columns=columns, index = index)\n",
    "res['id'] = test_data['id']\n",
    "\n",
    "for c in train_data.columns[2:8]:\n",
    "    labels = np.array(train_data[c])\n",
    "    mm = class_model(x_train_vectorized,labels)\n",
    "    predictions = mm.predict_proba(x_test_vectorized)\n",
    "    res[c] = predictions[:,np.squeeze(np.where(mm.classes_==1))]"
   ]
  },
  {
   "cell_type": "code",
   "execution_count": 11,
   "metadata": {},
   "outputs": [
    {
     "name": "stdout",
     "output_type": "stream",
     "text": [
      "                      id     toxic  severe_toxic   obscene    threat  \\\n",
      "0       00001cee341fdb12  0.999904      0.787003  0.999908  0.644637   \n",
      "1       0000247867823ef7  0.007029      0.184858  0.010332  0.325136   \n",
      "2       00013b17ad220c46  0.104241      0.217008  0.079215  0.347439   \n",
      "3       00017563c3f7919a  0.007881      0.107374  0.015868  0.287720   \n",
      "4       00017695ad8997eb  0.084354      0.159972  0.060338  0.308643   \n",
      "5       0001ea8717f6de06  0.020446      0.121069  0.012634  0.223215   \n",
      "6       00024115d4cbde0f  0.011042      0.100106  0.018216  0.203765   \n",
      "7       000247e83dcc1211  0.983641      0.286882  0.327619  0.402311   \n",
      "8       00025358d4737918  0.102474      0.185527  0.062630  0.342450   \n",
      "9       00026d1092fe71cc  0.010193      0.126478  0.014556  0.249553   \n",
      "10      0002eadc3b301559  0.969531      0.098846  0.942976  0.247873   \n",
      "11      0002f87b16116a7f  0.155593      0.179420  0.140803  0.316967   \n",
      "12      0003806b11932181  0.027118      0.127792  0.027602  0.235721   \n",
      "13      0003e1cccfd5a40a  0.009208      0.184925  0.057817  0.302620   \n",
      "14      00059ace3e3e9a53  0.010302      0.077850  0.009930  0.170223   \n",
      "15      000634272d0d44eb  0.162977      0.208313  0.075345  0.342813   \n",
      "16      000663aff0fffc80  0.252030      0.274689  0.118630  0.361706   \n",
      "17      000689dd34e20979  0.122490      0.142907  0.030998  0.287928   \n",
      "18      000834769115370c  0.009628      0.034088  0.003649  0.111836   \n",
      "19      000844b52dee5f3f  0.081105      0.122249  0.085287  0.184610   \n",
      "20      00084da5d4ead7aa  0.096274      0.221849  0.123344  0.312882   \n",
      "21      00091c35fa9d0465  0.783678      0.397814  0.363163  0.525129   \n",
      "22      000968ce11f5ee34  0.359073      0.146304  0.323349  0.256015   \n",
      "23      0009734200a85047  0.023150      0.211962  0.017921  0.330345   \n",
      "24      00097b6214686db5  0.331045      0.198347  0.324714  0.348778   \n",
      "25      0009aef4bd9e1697  0.014274      0.205831  0.022052  0.315421   \n",
      "26      000a02d807ae0254  0.071236      0.184562  0.054748  0.343947   \n",
      "27      000a6c6d4e89b9bc  0.246089      0.253049  0.162084  0.349958   \n",
      "28      000bafe2080bba82  0.711012      0.333386  0.128148  0.427766   \n",
      "29      000bf0a9894b2807  0.042702      0.164053  0.038885  0.295027   \n",
      "...                  ...       ...           ...       ...       ...   \n",
      "153134  fff3ae2e177b6bb3  0.301645      0.204406  0.102278  0.283690   \n",
      "153135  fff4109e837f7acc  0.085460      0.212745  0.021798  0.326816   \n",
      "153136  fff4373a81ef9f2a  0.035745      0.156277  0.018081  0.274452   \n",
      "153137  fff460574ddbcd80  0.215985      0.272877  0.141525  0.383016   \n",
      "153138  fff4fc0a1555be5c  0.087421      0.236361  0.042275  0.316741   \n",
      "153139  fff5b9bb944d634c  0.038592      0.123718  0.062860  0.222018   \n",
      "153140  fff5c4a77fe0c05f  0.087651      0.113109  0.045132  0.244808   \n",
      "153141  fff5fb61bd637c82  0.059376      0.112449  0.043575  0.238574   \n",
      "153142  fff69311f306df44  0.358847      0.268855  0.057159  0.361835   \n",
      "153143  fff6ad63666fb304  0.999871      0.795424  0.999501  0.454311   \n",
      "153144  fff7159b3ee95618  0.012441      0.192242  0.012943  0.312448   \n",
      "153145  fff718ffe5f05559  0.080808      0.174268  0.025693  0.266586   \n",
      "153146  fff7fc22a0cdccd3  0.001178      0.102920  0.012640  0.248409   \n",
      "153147  fff83b80284d8440  0.106515      0.194496  0.082886  0.252649   \n",
      "153148  fff8ef316d0c6990  0.118474      0.207337  0.012185  0.320103   \n",
      "153149  fff8f521a7dbcd47  0.945075      0.385011  0.458336  0.419788   \n",
      "153150  fff8f64043129fa2  0.009081      0.135494  0.013510  0.251501   \n",
      "153151  fff9d70fe0722906  0.626128      0.285489  0.503836  0.322506   \n",
      "153152  fff9fa508f400ee6  0.658986      0.260151  0.898475  0.363678   \n",
      "153153  fffa3fae1890b40a  0.988169      0.528335  0.975889  0.671920   \n",
      "153154  fffa8a11c4378854  0.932861      0.276544  0.231333  0.371522   \n",
      "153155  fffac2a094c8e0e2  0.999889      0.800181  0.999620  0.505918   \n",
      "153156  fffb5451268fb5ba  0.238772      0.254276  0.091385  0.342374   \n",
      "153157  fffc2b34bbe61c8d  0.059668      0.161190  0.020503  0.289018   \n",
      "153158  fffc489742ffe69b  0.996060      0.251278  0.906801  0.311130   \n",
      "153159  fffcd0960ee309b5  0.963831      0.222127  0.841189  0.379940   \n",
      "153160  fffd7a9a6eb32c16  0.168680      0.253413  0.178532  0.393737   \n",
      "153161  fffda9e8d6fafa9e  0.006281      0.197113  0.013061  0.306073   \n",
      "153162  fffe8f1340a79fc2  0.063694      0.201441  0.306548  0.345244   \n",
      "153163  ffffce3fb183ee80  0.999728      0.205724  0.995997  0.351527   \n",
      "\n",
      "          insult  identity_hate  \n",
      "0       0.951904       0.842921  \n",
      "1       0.178143       0.311511  \n",
      "2       0.257949       0.298784  \n",
      "3       0.073422       0.150182  \n",
      "4       0.174326       0.198046  \n",
      "5       0.108149       0.184540  \n",
      "6       0.082201       0.158632  \n",
      "7       0.522690       0.401115  \n",
      "8       0.261602       0.262381  \n",
      "9       0.132394       0.188170  \n",
      "10      0.277431       0.149299  \n",
      "11      0.207166       0.319506  \n",
      "12      0.114483       0.141259  \n",
      "13      0.124258       0.261053  \n",
      "14      0.051431       0.104890  \n",
      "15      0.292198       0.305533  \n",
      "16      0.331714       0.357757  \n",
      "17      0.176743       0.212848  \n",
      "18      0.011548       0.042996  \n",
      "19      0.133637       0.105392  \n",
      "20      0.226576       0.225656  \n",
      "21      0.458303       0.533784  \n",
      "22      0.149812       0.209244  \n",
      "23      0.198564       0.313729  \n",
      "24      0.193335       0.293447  \n",
      "25      0.162709       0.272396  \n",
      "26      0.218544       0.247081  \n",
      "27      0.307066       0.339888  \n",
      "28      0.407194       0.821554  \n",
      "29      0.180854       0.229553  \n",
      "...          ...            ...  \n",
      "153134  0.205702       0.305282  \n",
      "153135  0.184710       0.301845  \n",
      "153136  0.140784       0.191910  \n",
      "153137  0.319995       0.370988  \n",
      "153138  0.190389       0.311459  \n",
      "153139  0.129994       0.190987  \n",
      "153140  0.129051       0.158395  \n",
      "153141  0.139607       0.154560  \n",
      "153142  0.356968       0.347445  \n",
      "153143  0.947597       0.690260  \n",
      "153144  0.125436       0.262402  \n",
      "153145  0.114977       0.251530  \n",
      "153146  0.053211       0.135847  \n",
      "153147  0.281094       0.236601  \n",
      "153148  0.215776       0.261977  \n",
      "153149  0.568147       0.373219  \n",
      "153150  0.105955       0.178061  \n",
      "153151  0.421623       0.324837  \n",
      "153152  0.348972       0.355250  \n",
      "153153  0.714249       0.495522  \n",
      "153154  0.414224       0.481685  \n",
      "153155  0.957326       0.787858  \n",
      "153156  0.322060       0.339338  \n",
      "153157  0.143718       0.212912  \n",
      "153158  0.874285       0.255479  \n",
      "153159  0.454268       0.322003  \n",
      "153160  0.339790       0.378951  \n",
      "153161  0.144877       0.268640  \n",
      "153162  0.213469       0.461810  \n",
      "153163  0.829789       0.404562  \n",
      "\n",
      "[153164 rows x 7 columns]\n"
     ]
    }
   ],
   "source": [
    "print(res)"
   ]
  },
  {
   "cell_type": "code",
   "execution_count": 12,
   "metadata": {
    "collapsed": true
   },
   "outputs": [],
   "source": [
    "res.to_csv('tfid_reg.csv',index=False)"
   ]
  },
  {
   "cell_type": "code",
   "execution_count": null,
   "metadata": {
    "collapsed": true
   },
   "outputs": [],
   "source": []
  }
 ],
 "metadata": {
  "kernelspec": {
   "display_name": "Python 3",
   "language": "python",
   "name": "python3"
  },
  "language_info": {
   "codemirror_mode": {
    "name": "ipython",
    "version": 3
   },
   "file_extension": ".py",
   "mimetype": "text/x-python",
   "name": "python",
   "nbconvert_exporter": "python",
   "pygments_lexer": "ipython3",
   "version": "3.6.1"
  }
 },
 "nbformat": 4,
 "nbformat_minor": 2
}
